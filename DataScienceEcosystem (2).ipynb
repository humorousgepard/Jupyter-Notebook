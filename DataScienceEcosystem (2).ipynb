{
 "cells": [
  {
   "cell_type": "markdown",
   "id": "35b55fad",
   "metadata": {},
   "source": [
    "## Data Science Tools and Ecosystem"
   ]
  },
  {
   "cell_type": "markdown",
   "id": "68bb6424",
   "metadata": {},
   "source": [
    "This note book is about Data Science Tools and Ecosystem summary"
   ]
  },
  {
   "cell_type": "markdown",
   "id": "b867fcbe",
   "metadata": {},
   "source": [
    "**Objectives:**\n",
    "\n",
    "- Popular languages for Data Science\n",
    "- Popular libraries for Data Science\n",
    "- Popular Data science Tools\n",
    "- Simple Arithmetic evaluations\n"
   ]
  },
  {
   "cell_type": "markdown",
   "id": "0c9749ff",
   "metadata": {},
   "source": [
    "Here are some languages that are commonly used in Data Science:\n",
    "1. Python\n",
    "2. R\n",
    "3. SQL (Structured Query Language)"
   ]
  },
  {
   "cell_type": "markdown",
   "id": "960be4c2",
   "metadata": {},
   "source": [
    "There are many libraries used by Data Scientists such as:\n",
    "1. Sickit-Learn\n",
    "2. Pandas\n",
    "3. Nympy"
   ]
  },
  {
   "cell_type": "markdown",
   "id": "8b7beabe",
   "metadata": {},
   "source": [
    "Data Science Tools:\n",
    "\n",
    "    1. VS Code\n",
    "    2. Gitlab\n",
    "    3. Tensorflow"
   ]
  },
  {
   "cell_type": "markdown",
   "id": "49d1b64b",
   "metadata": {},
   "source": [
    "Here is some evalution of arithmetetic expressions in Python:"
   ]
  },
  {
   "cell_type": "code",
   "execution_count": 3,
   "id": "bd9d1b78",
   "metadata": {},
   "outputs": [
    {
     "data": {
      "text/plain": [
       "100"
      ]
     },
     "execution_count": 3,
     "metadata": {},
     "output_type": "execute_result"
    }
   ],
   "source": [
    "#This is a basic arithmetic expression to multiply then add integers\n",
    "(10*9)+10"
   ]
  },
  {
   "cell_type": "code",
   "execution_count": 2,
   "id": "377313c9",
   "metadata": {},
   "outputs": [
    {
     "name": "stdout",
     "output_type": "stream",
     "text": [
      "3.0\n"
     ]
    }
   ],
   "source": [
    "#This will convert the minutes to hours\n",
    "minutes = 180\n",
    "hours = minutes/60\n",
    "print(hours)"
   ]
  },
  {
   "cell_type": "markdown",
   "id": "d48d10f7",
   "metadata": {},
   "source": [
    "## Author"
   ]
  },
  {
   "cell_type": "markdown",
   "id": "4bb92f91",
   "metadata": {},
   "source": [
    "Bence Fartek"
   ]
  }
 ],
 "metadata": {
  "kernelspec": {
   "display_name": "Python 3 (ipykernel)",
   "language": "python",
   "name": "python3"
  },
  "language_info": {
   "codemirror_mode": {
    "name": "ipython",
    "version": 3
   },
   "file_extension": ".py",
   "mimetype": "text/x-python",
   "name": "python",
   "nbconvert_exporter": "python",
   "pygments_lexer": "ipython3",
   "version": "3.11.4"
  }
 },
 "nbformat": 4,
 "nbformat_minor": 5
}
